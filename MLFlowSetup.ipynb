{
 "cells": [
  {
   "cell_type": "markdown",
   "id": "4888d0d2",
   "metadata": {},
   "source": [
    "# MLflow Example: Tracking Two Model Training Runs"
   ]
  },
  {
   "cell_type": "code",
   "execution_count": 16,
   "id": "16184be1",
   "metadata": {},
   "outputs": [],
   "source": [
    "# === Model Training and Experimentation ===\n",
    "\n",
    "# Import necessary libraries\n",
    "from sklearn.ensemble import RandomForestClassifier\n",
    "from sklearn.model_selection import train_test_split\n",
    "from sklearn.metrics import accuracy_score\n",
    "from sklearn.datasets import load_digits\n"
   ]
  },
  {
   "cell_type": "code",
   "execution_count": 17,
   "id": "6ee458ef",
   "metadata": {},
   "outputs": [],
   "source": [
    "\n",
    "# Load dataset\n",
    "data = load_digits()\n",
    "X_train, X_test, y_train, y_test = train_test_split(data.data, data.target, test_size=0.2, random_state=42)\n",
    "\n",
    "# Define a function to train a model and return its accuracy\n",
    "def train_model(n_estimators, max_depth):\n",
    "    # Train a RandomForestClassifier\n",
    "    model = RandomForestClassifier(n_estimators=n_estimators, max_depth=max_depth, random_state=42)\n",
    "    model.fit(X_train, y_train)\n",
    "\n",
    "    # Make predictions\n",
    "    predictions = model.predict(X_test)\n",
    "    accuracy = accuracy_score(y_test, predictions)\n",
    "\n",
    "    print(f\"Model with n_estimators={n_estimators}, max_depth={max_depth} achieved accuracy={accuracy:.4f}\")\n",
    "    return model, accuracy"
   ]
  },
  {
   "cell_type": "code",
   "execution_count": 18,
   "id": "81669da5",
   "metadata": {},
   "outputs": [
    {
     "name": "stdout",
     "output_type": "stream",
     "text": [
      "Training Model 1...\n",
      "Model with n_estimators=20, max_depth=5 achieved accuracy=0.9389\n"
     ]
    }
   ],
   "source": [
    "\n",
    "# Train models with different hyperparameter configurations\n",
    "print(\"Training Model 1...\")\n",
    "model_1, acc_1 = train_model(n_estimators=20, max_depth=5)"
   ]
  },
  {
   "cell_type": "code",
   "execution_count": 19,
   "id": "94f0f7a1",
   "metadata": {},
   "outputs": [
    {
     "name": "stdout",
     "output_type": "stream",
     "text": [
      "\n",
      "Training Model 2...\n",
      "Model with n_estimators=100, max_depth=10 achieved accuracy=0.9722\n"
     ]
    }
   ],
   "source": [
    "print(\"\\nTraining Model 2...\")\n",
    "model_2, acc_2 = train_model(n_estimators=100, max_depth=10)\n"
   ]
  },
  {
   "cell_type": "code",
   "execution_count": 20,
   "id": "e1fa3515",
   "metadata": {},
   "outputs": [
    {
     "name": "stdout",
     "output_type": "stream",
     "text": [
      "Requirement already satisfied: dagshub in c:\\users\\marc\\anaconda3\\envs\\data-lakes\\lib\\site-packages (0.5.10)\n",
      "Requirement already satisfied: PyYAML>=5 in c:\\users\\marc\\anaconda3\\envs\\data-lakes\\lib\\site-packages (from dagshub) (6.0.2)\n",
      "Requirement already satisfied: appdirs>=1.4.4 in c:\\users\\marc\\anaconda3\\envs\\data-lakes\\lib\\site-packages (from dagshub) (1.4.4)\n",
      "Requirement already satisfied: click>=8.0.4 in c:\\users\\marc\\anaconda3\\envs\\data-lakes\\lib\\site-packages (from dagshub) (8.1.8)\n",
      "Requirement already satisfied: httpx>=0.23.0 in c:\\users\\marc\\anaconda3\\envs\\data-lakes\\lib\\site-packages (from dagshub) (0.27.0)\n",
      "Requirement already satisfied: GitPython>=3.1.29 in c:\\users\\marc\\anaconda3\\envs\\data-lakes\\lib\\site-packages (from dagshub) (3.1.44)\n",
      "Requirement already satisfied: rich>=13.1.0 in c:\\users\\marc\\anaconda3\\envs\\data-lakes\\lib\\site-packages (from dagshub) (13.9.4)\n",
      "Requirement already satisfied: dacite~=1.6.0 in c:\\users\\marc\\anaconda3\\envs\\data-lakes\\lib\\site-packages (from dagshub) (1.6.0)\n",
      "Requirement already satisfied: tenacity>=8.2.2 in c:\\users\\marc\\anaconda3\\envs\\data-lakes\\lib\\site-packages (from dagshub) (9.1.2)\n",
      "Requirement already satisfied: gql[requests] in c:\\users\\marc\\anaconda3\\envs\\data-lakes\\lib\\site-packages (from dagshub) (3.5.3)\n",
      "Requirement already satisfied: dataclasses-json in c:\\users\\marc\\anaconda3\\envs\\data-lakes\\lib\\site-packages (from dagshub) (0.6.7)\n",
      "Requirement already satisfied: pandas in c:\\users\\marc\\anaconda3\\envs\\data-lakes\\lib\\site-packages (from dagshub) (2.2.2)\n",
      "Requirement already satisfied: treelib>=1.6.4 in c:\\users\\marc\\anaconda3\\envs\\data-lakes\\lib\\site-packages (from dagshub) (1.7.1)\n",
      "Requirement already satisfied: pathvalidate>=3.0.0 in c:\\users\\marc\\anaconda3\\envs\\data-lakes\\lib\\site-packages (from dagshub) (3.3.1)\n",
      "Requirement already satisfied: python-dateutil in c:\\users\\marc\\anaconda3\\envs\\data-lakes\\lib\\site-packages (from dagshub) (2.9.0.post0)\n",
      "Requirement already satisfied: boto3 in c:\\users\\marc\\anaconda3\\envs\\data-lakes\\lib\\site-packages (from dagshub) (1.38.43)\n",
      "Requirement already satisfied: semver in c:\\users\\marc\\anaconda3\\envs\\data-lakes\\lib\\site-packages (from dagshub) (3.0.4)\n",
      "Requirement already satisfied: dagshub-annotation-converter>=0.1.5 in c:\\users\\marc\\anaconda3\\envs\\data-lakes\\lib\\site-packages (from dagshub) (0.1.10)\n",
      "Requirement already satisfied: colorama in c:\\users\\marc\\anaconda3\\envs\\data-lakes\\lib\\site-packages (from click>=8.0.4->dagshub) (0.4.6)\n",
      "Requirement already satisfied: lxml in c:\\users\\marc\\anaconda3\\envs\\data-lakes\\lib\\site-packages (from dagshub-annotation-converter>=0.1.5->dagshub) (5.4.0)\n",
      "Requirement already satisfied: pillow in c:\\users\\marc\\anaconda3\\envs\\data-lakes\\lib\\site-packages (from dagshub-annotation-converter>=0.1.5->dagshub) (11.2.1)\n",
      "Requirement already satisfied: pydantic>=2.0.0 in c:\\users\\marc\\anaconda3\\envs\\data-lakes\\lib\\site-packages (from dagshub-annotation-converter>=0.1.5->dagshub) (2.11.7)\n",
      "Requirement already satisfied: typing-extensions in c:\\users\\marc\\anaconda3\\envs\\data-lakes\\lib\\site-packages (from dagshub-annotation-converter>=0.1.5->dagshub) (4.12.2)\n",
      "Requirement already satisfied: gitdb<5,>=4.0.1 in c:\\users\\marc\\anaconda3\\envs\\data-lakes\\lib\\site-packages (from GitPython>=3.1.29->dagshub) (4.0.12)\n",
      "Requirement already satisfied: anyio in c:\\users\\marc\\anaconda3\\envs\\data-lakes\\lib\\site-packages (from httpx>=0.23.0->dagshub) (4.6.2)\n",
      "Requirement already satisfied: certifi in c:\\users\\marc\\anaconda3\\envs\\data-lakes\\lib\\site-packages (from httpx>=0.23.0->dagshub) (2025.1.31)\n",
      "Requirement already satisfied: httpcore==1.* in c:\\users\\marc\\anaconda3\\envs\\data-lakes\\lib\\site-packages (from httpx>=0.23.0->dagshub) (1.0.2)\n",
      "Requirement already satisfied: idna in c:\\users\\marc\\anaconda3\\envs\\data-lakes\\lib\\site-packages (from httpx>=0.23.0->dagshub) (3.7)\n",
      "Requirement already satisfied: sniffio in c:\\users\\marc\\anaconda3\\envs\\data-lakes\\lib\\site-packages (from httpx>=0.23.0->dagshub) (1.3.0)\n",
      "Requirement already satisfied: h11<0.15,>=0.13 in c:\\users\\marc\\anaconda3\\envs\\data-lakes\\lib\\site-packages (from httpcore==1.*->httpx>=0.23.0->dagshub) (0.14.0)\n",
      "Requirement already satisfied: markdown-it-py>=2.2.0 in c:\\users\\marc\\anaconda3\\envs\\data-lakes\\lib\\site-packages (from rich>=13.1.0->dagshub) (2.2.0)\n",
      "Requirement already satisfied: pygments<3.0.0,>=2.13.0 in c:\\users\\marc\\anaconda3\\envs\\data-lakes\\lib\\site-packages (from rich>=13.1.0->dagshub) (2.15.1)\n",
      "Requirement already satisfied: six in c:\\users\\marc\\anaconda3\\envs\\data-lakes\\lib\\site-packages (from treelib>=1.6.4->dagshub) (1.17.0)\n",
      "Requirement already satisfied: botocore<1.39.0,>=1.38.43 in c:\\users\\marc\\anaconda3\\envs\\data-lakes\\lib\\site-packages (from boto3->dagshub) (1.38.43)\n",
      "Requirement already satisfied: jmespath<2.0.0,>=0.7.1 in c:\\users\\marc\\anaconda3\\envs\\data-lakes\\lib\\site-packages (from boto3->dagshub) (1.0.1)\n",
      "Requirement already satisfied: s3transfer<0.14.0,>=0.13.0 in c:\\users\\marc\\anaconda3\\envs\\data-lakes\\lib\\site-packages (from boto3->dagshub) (0.13.0)\n",
      "Requirement already satisfied: marshmallow<4.0.0,>=3.18.0 in c:\\users\\marc\\anaconda3\\envs\\data-lakes\\lib\\site-packages (from dataclasses-json->dagshub) (3.26.1)\n",
      "Requirement already satisfied: typing-inspect<1,>=0.4.0 in c:\\users\\marc\\anaconda3\\envs\\data-lakes\\lib\\site-packages (from dataclasses-json->dagshub) (0.9.0)\n",
      "Requirement already satisfied: graphql-core<3.2.7,>=3.2 in c:\\users\\marc\\anaconda3\\envs\\data-lakes\\lib\\site-packages (from gql[requests]->dagshub) (3.2.6)\n",
      "Requirement already satisfied: yarl<2.0,>=1.6 in c:\\users\\marc\\anaconda3\\envs\\data-lakes\\lib\\site-packages (from gql[requests]->dagshub) (1.18.0)\n",
      "Requirement already satisfied: backoff<3.0,>=1.11.1 in c:\\users\\marc\\anaconda3\\envs\\data-lakes\\lib\\site-packages (from gql[requests]->dagshub) (2.2.1)\n",
      "Requirement already satisfied: requests<3,>=2.26 in c:\\users\\marc\\anaconda3\\envs\\data-lakes\\lib\\site-packages (from gql[requests]->dagshub) (2.32.3)\n",
      "Requirement already satisfied: requests-toolbelt<2,>=1.0.0 in c:\\users\\marc\\anaconda3\\envs\\data-lakes\\lib\\site-packages (from gql[requests]->dagshub) (1.0.0)\n",
      "Requirement already satisfied: numpy>=1.22.4 in c:\\users\\marc\\anaconda3\\envs\\data-lakes\\lib\\site-packages (from pandas->dagshub) (2.0.1)\n",
      "Requirement already satisfied: pytz>=2020.1 in c:\\users\\marc\\anaconda3\\envs\\data-lakes\\lib\\site-packages (from pandas->dagshub) (2025.2)\n",
      "Requirement already satisfied: tzdata>=2022.7 in c:\\users\\marc\\anaconda3\\envs\\data-lakes\\lib\\site-packages (from pandas->dagshub) (2025.2)\n",
      "Requirement already satisfied: exceptiongroup>=1.0.2 in c:\\users\\marc\\anaconda3\\envs\\data-lakes\\lib\\site-packages (from anyio->httpx>=0.23.0->dagshub) (1.2.0)\n",
      "Requirement already satisfied: urllib3<1.27,>=1.25.4 in c:\\users\\marc\\anaconda3\\envs\\data-lakes\\lib\\site-packages (from botocore<1.39.0,>=1.38.43->boto3->dagshub) (1.26.20)\n",
      "Requirement already satisfied: smmap<6,>=3.0.1 in c:\\users\\marc\\anaconda3\\envs\\data-lakes\\lib\\site-packages (from gitdb<5,>=4.0.1->GitPython>=3.1.29->dagshub) (5.0.2)\n",
      "Requirement already satisfied: mdurl~=0.1 in c:\\users\\marc\\anaconda3\\envs\\data-lakes\\lib\\site-packages (from markdown-it-py>=2.2.0->rich>=13.1.0->dagshub) (0.1.0)\n",
      "Requirement already satisfied: packaging>=17.0 in c:\\users\\marc\\anaconda3\\envs\\data-lakes\\lib\\site-packages (from marshmallow<4.0.0,>=3.18.0->dataclasses-json->dagshub) (24.2)\n",
      "Requirement already satisfied: annotated-types>=0.6.0 in c:\\users\\marc\\anaconda3\\envs\\data-lakes\\lib\\site-packages (from pydantic>=2.0.0->dagshub-annotation-converter>=0.1.5->dagshub) (0.7.0)\n",
      "Requirement already satisfied: pydantic-core==2.33.2 in c:\\users\\marc\\anaconda3\\envs\\data-lakes\\lib\\site-packages (from pydantic>=2.0.0->dagshub-annotation-converter>=0.1.5->dagshub) (2.33.2)\n",
      "Requirement already satisfied: typing-inspection>=0.4.0 in c:\\users\\marc\\anaconda3\\envs\\data-lakes\\lib\\site-packages (from pydantic>=2.0.0->dagshub-annotation-converter>=0.1.5->dagshub) (0.4.1)\n",
      "Requirement already satisfied: charset-normalizer<4,>=2 in c:\\users\\marc\\anaconda3\\envs\\data-lakes\\lib\\site-packages (from requests<3,>=2.26->gql[requests]->dagshub) (3.3.2)\n",
      "Requirement already satisfied: mypy-extensions>=0.3.0 in c:\\users\\marc\\anaconda3\\envs\\data-lakes\\lib\\site-packages (from typing-inspect<1,>=0.4.0->dataclasses-json->dagshub) (1.0.0)\n",
      "Requirement already satisfied: multidict>=4.0 in c:\\users\\marc\\anaconda3\\envs\\data-lakes\\lib\\site-packages (from yarl<2.0,>=1.6->gql[requests]->dagshub) (6.1.0)\n",
      "Requirement already satisfied: propcache>=0.2.0 in c:\\users\\marc\\anaconda3\\envs\\data-lakes\\lib\\site-packages (from yarl<2.0,>=1.6->gql[requests]->dagshub) (0.3.1)\n"
     ]
    }
   ],
   "source": [
    "! pip install dagshub\n"
   ]
  },
  {
   "cell_type": "markdown",
   "id": "ab64aace",
   "metadata": {},
   "source": [
    "Now adding MLFlow"
   ]
  },
  {
   "cell_type": "code",
   "execution_count": 21,
   "id": "f2ddb7ef",
   "metadata": {},
   "outputs": [],
   "source": [
    "import mlflow\n",
    "import mlflow.sklearn\n",
    "from sklearn.ensemble import RandomForestClassifier\n",
    "from sklearn.model_selection import train_test_split\n",
    "from sklearn.metrics import accuracy_score\n",
    "from sklearn.datasets import load_digits"
   ]
  },
  {
   "cell_type": "code",
   "execution_count": 22,
   "id": "3f59d2e1",
   "metadata": {},
   "outputs": [
    {
     "data": {
      "text/html": [
       "<pre style=\"white-space:pre;overflow-x:auto;line-height:normal;font-family:Menlo,'DejaVu Sans Mono',consolas,'Courier New',monospace\">Initialized MLflow to track repo <span style=\"color: #008000; text-decoration-color: #008000\">\"Marc-Rougagnou/dvc-dags-mlflow\"</span>\n",
       "</pre>\n"
      ],
      "text/plain": [
       "Initialized MLflow to track repo \u001b[32m\"Marc-Rougagnou/dvc-dags-mlflow\"\u001b[0m\n"
      ]
     },
     "metadata": {},
     "output_type": "display_data"
    },
    {
     "data": {
      "text/html": [
       "<pre style=\"white-space:pre;overflow-x:auto;line-height:normal;font-family:Menlo,'DejaVu Sans Mono',consolas,'Courier New',monospace\">Repository Marc-Rougagnou/dvc-dags-mlflow initialized!\n",
       "</pre>\n"
      ],
      "text/plain": [
       "Repository Marc-Rougagnou/dvc-dags-mlflow initialized!\n"
      ]
     },
     "metadata": {},
     "output_type": "display_data"
    }
   ],
   "source": [
    "# get this code from dagshub\n",
    "import dagshub\n",
    "dagshub.init(repo_owner='Marc-Rougagnou', repo_name='dvc-dags-mlflow', mlflow=True)"
   ]
  },
  {
   "cell_type": "code",
   "execution_count": 23,
   "id": "edff98f2",
   "metadata": {},
   "outputs": [],
   "source": [
    "data = load_digits()\n",
    "X_train, X_test, y_train, y_test = train_test_split(data.data, data.target, test_size=0.2, random_state=42)"
   ]
  },
  {
   "cell_type": "code",
   "execution_count": 24,
   "id": "ce2ab4eb",
   "metadata": {},
   "outputs": [
    {
     "data": {
      "text/plain": [
       "<Experiment: artifact_location='mlflow-artifacts:/1eb2fd4623c9457da98c63af49ac864e', creation_time=1750863494039, experiment_id='1', last_update_time=1750863494039, lifecycle_stage='active', name='RandomForestExperiment_3', tags={}>"
      ]
     },
     "execution_count": 24,
     "metadata": {},
     "output_type": "execute_result"
    }
   ],
   "source": [
    "# Set MLflow experiment name. This will get created if it doesn't exist\n",
    "experiment_name = \"RandomForestExperiment_3\"\n",
    "mlflow.set_experiment(experiment_name)\n"
   ]
  },
  {
   "cell_type": "code",
   "execution_count": 25,
   "id": "d09752f1",
   "metadata": {},
   "outputs": [],
   "source": [
    "import mlflow\n",
    "import mlflow.sklearn\n",
    "import joblib\n",
    "\n",
    "def train_and_log_model(n_estimators, max_depth):\n",
    "    with mlflow.start_run():\n",
    "        # Train the model\n",
    "        model = RandomForestClassifier(n_estimators=n_estimators, max_depth=max_depth, random_state=42)\n",
    "        model.fit(X_train, y_train)\n",
    "\n",
    "        # Evaluate\n",
    "        predictions = model.predict(X_test)\n",
    "        accuracy = accuracy_score(y_test, predictions)\n",
    "\n",
    "        # Log params & metrics\n",
    "        mlflow.log_param(\"n_estimators\", n_estimators)\n",
    "        mlflow.log_param(\"max_depth\", max_depth)\n",
    "        mlflow.log_metric(\"accuracy\", accuracy)\n",
    "\n",
    "        # Save & log the model manually\n",
    "        local_model_path = \"rf_model.pkl\"\n",
    "        joblib.dump(model, local_model_path)\n",
    "        mlflow.log_artifact(local_model_path, artifact_path=\"model\")\n",
    "\n",
    "        print(f\"✔️ Modèle loggué avec accuracy={accuracy:.4f}\")"
   ]
  },
  {
   "cell_type": "code",
   "execution_count": 26,
   "id": "6ea78600",
   "metadata": {},
   "outputs": [
    {
     "name": "stdout",
     "output_type": "stream",
     "text": [
      "Training and Logging Model 1...\n",
      "✔️ Modèle loggué avec accuracy=0.9389\n",
      "🏃 View run gregarious-pig-888 at: https://dagshub.com/Marc-Rougagnou/dvc-dags-mlflow.mlflow/#/experiments/1/runs/d9373f7c7cce46989c353c74d8a3d214\n",
      "🧪 View experiment at: https://dagshub.com/Marc-Rougagnou/dvc-dags-mlflow.mlflow/#/experiments/1\n"
     ]
    }
   ],
   "source": [
    "# Train and log Model 1\n",
    "print(\"Training and Logging Model 1...\")\n",
    "train_and_log_model(n_estimators=20, max_depth=5)"
   ]
  },
  {
   "cell_type": "code",
   "execution_count": 27,
   "id": "6af0267f",
   "metadata": {},
   "outputs": [
    {
     "name": "stdout",
     "output_type": "stream",
     "text": [
      "\n",
      "Training and Logging Model 2...\n",
      "✔️ Modèle loggué avec accuracy=0.9722\n",
      "🏃 View run gaudy-roo-732 at: https://dagshub.com/Marc-Rougagnou/dvc-dags-mlflow.mlflow/#/experiments/1/runs/7ec4e7e2da264cd5ab6141c0f6467f81\n",
      "🧪 View experiment at: https://dagshub.com/Marc-Rougagnou/dvc-dags-mlflow.mlflow/#/experiments/1\n"
     ]
    }
   ],
   "source": [
    "# Train and log Model 2\n",
    "print(\"\\nTraining and Logging Model 2...\")\n",
    "train_and_log_model(n_estimators=100, max_depth=10)"
   ]
  },
  {
   "cell_type": "code",
   "execution_count": 28,
   "id": "69f13b96",
   "metadata": {},
   "outputs": [
    {
     "name": "stdout",
     "output_type": "stream",
     "text": [
      "\n",
      "To view the results, run the following command in your terminal:\n",
      "mlflow ui\n",
      "Then navigate to http://127.0.0.1:5000 to explore the experiment results.\n"
     ]
    }
   ],
   "source": [
    "# Instructions to visualize results\n",
    "print(\"\\nTo view the results, run the following command in your terminal:\")\n",
    "print(\"mlflow ui\")\n",
    "print(\"Then navigate to http://127.0.0.1:5000 to explore the experiment results.\")"
   ]
  }
 ],
 "metadata": {
  "kernelspec": {
   "display_name": "data-lakes",
   "language": "python",
   "name": "python3"
  },
  "language_info": {
   "codemirror_mode": {
    "name": "ipython",
    "version": 3
   },
   "file_extension": ".py",
   "mimetype": "text/x-python",
   "name": "python",
   "nbconvert_exporter": "python",
   "pygments_lexer": "ipython3",
   "version": "3.9.21"
  }
 },
 "nbformat": 4,
 "nbformat_minor": 5
}
